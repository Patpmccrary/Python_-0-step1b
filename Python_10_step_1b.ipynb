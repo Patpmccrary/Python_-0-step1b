{
  "nbformat": 4,
  "nbformat_minor": 0,
  "metadata": {
    "colab": {
      "name": "Python-10_step_1b",
      "provenance": [],
      "collapsed_sections": [],
      "authorship_tag": "ABX9TyMTy0oICvY/X+eW+l84Va6o",
      "include_colab_link": true
    },
    "kernelspec": {
      "name": "python3",
      "display_name": "Python 3"
    }
  },
  "cells": [
    {
      "cell_type": "markdown",
      "metadata": {
        "id": "view-in-github",
        "colab_type": "text"
      },
      "source": [
        "<a href=\"https://colab.research.google.com/github/Patpmccrary/Python_-0-step1b/blob/main/Python_10_step_1b.ipynb\" target=\"_parent\"><img src=\"https://colab.research.google.com/assets/colab-badge.svg\" alt=\"Open In Colab\"/></a>"
      ]
    },
    {
      "cell_type": "markdown",
      "metadata": {
        "id": "T_lvg6iAGFYb"
      },
      "source": [
        "# **Strings**\r\n",
        "strings are order sequence of charactors that cannot be changed after created *immutable\r\n",
        "\r\n",
        "# Defining strings"
      ]
    },
    {
      "cell_type": "code",
      "metadata": {
        "colab": {
          "base_uri": "https://localhost:8080/"
        },
        "id": "BGKo151gFXXK",
        "outputId": "e55fb4cb-8a7e-499f-e4e8-f822d976d323"
      },
      "source": [
        "# string defined with single quotes\r\n",
        "name_one = 'tech I.S'\r\n",
        "print(name_one) \r\n",
        "\r\n",
        "# string defined with \"\" double quotes\r\n",
        "\r\n",
        "name_two = \"tech I.S\"\r\n",
        "print(name_two)\r\n",
        "\r\n",
        "# strig define with triple ''' quotes\r\n",
        "\r\n",
        "name_three = '''thie is a long string and \r\n",
        "                supports multiline statements as \r\n",
        "                well\r\n",
        "                '''\r\n",
        "print(name_three)\r\n",
        "\r\n",
        "# string define qith double quotes inside triple quotes\r\n",
        "\r\n",
        "name_four = 'hello, \"tech I.S student\"'\r\n",
        "print(name_four)\r\n"
      ],
      "execution_count": 1,
      "outputs": [
        {
          "output_type": "stream",
          "text": [
            "tech I.S\n",
            "tech I.S\n",
            "thie is a long string and \n",
            "                supports multiline statements as \n",
            "                well\n",
            "                \n",
            "hello, \"tech I.S student\"\n"
          ],
          "name": "stdout"
        }
      ]
    },
    {
      "cell_type": "markdown",
      "metadata": {
        "id": "7Jjx2sQl_u7m"
      },
      "source": [
        "**String Immutability Test**"
      ]
    },
    {
      "cell_type": "code",
      "metadata": {
        "colab": {
          "base_uri": "https://localhost:8080/",
          "height": 197
        },
        "id": "yAeVFOhr_uYh",
        "outputId": "a2bb1e42-d117-484e-bf7f-3b3813cdb899"
      },
      "source": [
        "# define string\r\n",
        "s = \"hello\"\r\n",
        "\r\n",
        "# attempt assigment\r\n",
        "\r\n",
        "s[0] = 'y'#throws error - hence strings are immutable"
      ],
      "execution_count": 1,
      "outputs": [
        {
          "output_type": "error",
          "ename": "TypeError",
          "evalue": "ignored",
          "traceback": [
            "\u001b[0;31m---------------------------------------------------------------------------\u001b[0m",
            "\u001b[0;31mTypeError\u001b[0m                                 Traceback (most recent call last)",
            "\u001b[0;32m<ipython-input-1-46780c547b06>\u001b[0m in \u001b[0;36m<module>\u001b[0;34m()\u001b[0m\n\u001b[1;32m      4\u001b[0m \u001b[0;31m# attempt assigment\u001b[0m\u001b[0;34m\u001b[0m\u001b[0;34m\u001b[0m\u001b[0;34m\u001b[0m\u001b[0m\n\u001b[1;32m      5\u001b[0m \u001b[0;34m\u001b[0m\u001b[0m\n\u001b[0;32m----> 6\u001b[0;31m \u001b[0ms\u001b[0m\u001b[0;34m[\u001b[0m\u001b[0;36m0\u001b[0m\u001b[0;34m]\u001b[0m \u001b[0;34m=\u001b[0m \u001b[0;34m'y'\u001b[0m\u001b[0;31m#throws error - hence strings are immutable\u001b[0m\u001b[0;34m\u001b[0m\u001b[0;34m\u001b[0m\u001b[0m\n\u001b[0m",
            "\u001b[0;31mTypeError\u001b[0m: 'str' object does not support item assignment"
          ]
        }
      ]
    },
    {
      "cell_type": "code",
      "metadata": {
        "colab": {
          "base_uri": "https://localhost:8080/"
        },
        "id": "uz-hEF6ZAmjw",
        "outputId": "e17f550c-84af-45fa-f81f-bfe75bc35c8e"
      },
      "source": [
        "# however, rebinding works\r\n",
        "# reasisigning s with 'y' concatenated with 'ello' from s\r\n",
        "\r\n",
        "s = 'y' + s[1:len(s)]\r\n",
        "\r\n",
        "print(s)\r\n"
      ],
      "execution_count": 2,
      "outputs": [
        {
          "output_type": "stream",
          "text": [
            "yello\n"
          ],
          "name": "stdout"
        }
      ]
    },
    {
      "cell_type": "markdown",
      "metadata": {
        "id": "wTSrqyUDCjgU"
      },
      "source": [
        "## string concatenation"
      ]
    },
    {
      "cell_type": "code",
      "metadata": {
        "colab": {
          "base_uri": "https://localhost:8080/"
        },
        "id": "TSYoqjn4CiQA",
        "outputId": "321ddc9f-fd31-40b2-d5b3-0097b106f23f"
      },
      "source": [
        "first_name = \"tech\"\r\n",
        "last_name = \"I.S\"\r\n",
        "full_name = first_name + ' ' + last_name\r\n",
        "print(full_name)"
      ],
      "execution_count": 4,
      "outputs": [
        {
          "output_type": "stream",
          "text": [
            "tech I.S\n"
          ],
          "name": "stdout"
        }
      ]
    },
    {
      "cell_type": "markdown",
      "metadata": {
        "id": "O3-dpY2CDT61"
      },
      "source": [
        "## String Multiplication\r\n"
      ]
    },
    {
      "cell_type": "code",
      "metadata": {
        "colab": {
          "base_uri": "https://localhost:8080/"
        },
        "id": "OQi9IoL_Dabu",
        "outputId": "8fba32ee-872c-4051-d64b-5d2dcabe1f7b"
      },
      "source": [
        "name = 'Hayato'\r\n",
        "print(name)\r\n",
        "name_thrice = name * 3\r\n",
        "print(name_thrice)\r\n",
        "print(name*4)\r\n",
        "print(name*10)\r\n",
        "\r\n"
      ],
      "execution_count": 5,
      "outputs": [
        {
          "output_type": "stream",
          "text": [
            "Hayato\n",
            "HayatoHayatoHayato\n",
            "HayatoHayatoHayatoHayato\n",
            "HayatoHayatoHayatoHayatoHayatoHayatoHayatoHayatoHayatoHayato\n"
          ],
          "name": "stdout"
        }
      ]
    },
    {
      "cell_type": "markdown",
      "metadata": {
        "id": "hE2TQ34eDTyZ"
      },
      "source": [
        "## String Length\r\n",
        "indexing for strings starts from 0\r\n"
      ]
    },
    {
      "cell_type": "code",
      "metadata": {
        "colab": {
          "base_uri": "https://localhost:8080/",
          "height": 299
        },
        "id": "MM0Fdwj3KHDv",
        "outputId": "9143e30a-abad-424b-ab60-75aa37fff3d5"
      },
      "source": [
        "s = \"abc\"\r\n",
        "\r\n",
        "# indexing starts from 0 in python\r\n",
        "\r\n",
        "# use square brackets and index number to access data\r\n",
        "print(s[0]) #output: a\r\n",
        "print(s[1]) #output: b\r\n",
        "print(s[2]) #output: c\r\n",
        "\r\n",
        "print(s[-1]) # output: c\r\n",
        "print(s[-2]) # output: b\r\n",
        "print(s[-3]) # output: a\r\n",
        "\r\n",
        "print(s[3]) # output: index error"
      ],
      "execution_count": 7,
      "outputs": [
        {
          "output_type": "stream",
          "text": [
            "a\n",
            "b\n",
            "c\n",
            "c\n",
            "b\n",
            "a\n"
          ],
          "name": "stdout"
        },
        {
          "output_type": "error",
          "ename": "IndexError",
          "evalue": "ignored",
          "traceback": [
            "\u001b[0;31m---------------------------------------------------------------------------\u001b[0m",
            "\u001b[0;31mIndexError\u001b[0m                                Traceback (most recent call last)",
            "\u001b[0;32m<ipython-input-7-014665ce265d>\u001b[0m in \u001b[0;36m<module>\u001b[0;34m()\u001b[0m\n\u001b[1;32m     12\u001b[0m \u001b[0mprint\u001b[0m\u001b[0;34m(\u001b[0m\u001b[0ms\u001b[0m\u001b[0;34m[\u001b[0m\u001b[0;34m-\u001b[0m\u001b[0;36m3\u001b[0m\u001b[0;34m]\u001b[0m\u001b[0;34m)\u001b[0m \u001b[0;31m# output: a\u001b[0m\u001b[0;34m\u001b[0m\u001b[0;34m\u001b[0m\u001b[0m\n\u001b[1;32m     13\u001b[0m \u001b[0;34m\u001b[0m\u001b[0m\n\u001b[0;32m---> 14\u001b[0;31m \u001b[0mprint\u001b[0m\u001b[0;34m(\u001b[0m\u001b[0ms\u001b[0m\u001b[0;34m[\u001b[0m\u001b[0;36m3\u001b[0m\u001b[0;34m]\u001b[0m\u001b[0;34m)\u001b[0m \u001b[0;31m# output: index error\u001b[0m\u001b[0;34m\u001b[0m\u001b[0;34m\u001b[0m\u001b[0m\n\u001b[0m",
            "\u001b[0;31mIndexError\u001b[0m: string index out of range"
          ]
        }
      ]
    },
    {
      "cell_type": "markdown",
      "metadata": {
        "id": "cOcUlInLL0d3"
      },
      "source": [
        "string index out of range, why?"
      ]
    },
    {
      "cell_type": "markdown",
      "metadata": {
        "id": "jr2WHO9TTk1T"
      },
      "source": [
        "\r\n",
        "\r\n",
        "## String Slicing\r\n",
        "\r\n"
      ]
    },
    {
      "cell_type": "code",
      "metadata": {
        "colab": {
          "base_uri": "https://localhost:8080/"
        },
        "id": "22jYgYtQMHlp",
        "outputId": "9fee8d40-c502-43f9-b62b-c6284c69f3b4"
      },
      "source": [
        "#define a new string\r\n",
        "s = 'abcdefg'\r\n",
        "print(s[3:6])  #output: def\r\n",
        "print(s[3:6:1])  #output:def\r\n",
        "print(s[3:6:2]) # output: df\r\n",
        "print(s[::])   #output:abcdefg(useful for copy string content into new memory location)\r\n",
        "print(s[::-1]) #reverse command\r\n",
        "print(s[4:1:-2]) #output ec"
      ],
      "execution_count": 10,
      "outputs": [
        {
          "output_type": "stream",
          "text": [
            "def\n",
            "def\n",
            "df\n",
            "abcdefg\n",
            "gfedcba\n",
            "ec\n"
          ],
          "name": "stdout"
        }
      ]
    },
    {
      "cell_type": "markdown",
      "metadata": {
        "id": "YwMWYM24fBFL"
      },
      "source": [
        "# Lists"
      ]
    },
    {
      "cell_type": "code",
      "metadata": {
        "colab": {
          "base_uri": "https://localhost:8080/"
        },
        "id": "6PX3BJmpgA44",
        "outputId": "f7d0749d-af82-4ddb-a8ed-7e56725659c7"
      },
      "source": [
        "# define a list\r\n",
        "new_list = [3,7,20,'@', 'tech I.S' , 'make learning fun!']\r\n",
        "\r\n",
        "#veiw list\r\n",
        "print(new_list)\r\n"
      ],
      "execution_count": 11,
      "outputs": [
        {
          "output_type": "stream",
          "text": [
            "[3, 7, 20, '@', 'tech I.S', 'make learning fun!']\n"
          ],
          "name": "stdout"
        }
      ]
    },
    {
      "cell_type": "markdown",
      "metadata": {
        "id": "c9j2gkCQg3dz"
      },
      "source": [
        "#Accesing list elements\r\n"
      ]
    },
    {
      "cell_type": "code",
      "metadata": {
        "colab": {
          "base_uri": "https://localhost:8080/"
        },
        "id": "hrX_7x2igtuE",
        "outputId": "6daba3cf-210d-4b6a-a30f-9527ea6bdc3b"
      },
      "source": [
        "#define a list\r\n",
        "new_list = [3,7,20,'@' , 'tech is', 'make learrning fun!']\r\n",
        "\r\n",
        "print(new_list[0]) #zeroth element\r\n",
        "print(new_list[1]) # first element\r\n",
        "print(new_list[2]) # second element\r\n",
        "print(new_list[3]) # third element\r\n",
        "\r\n",
        "print(new_list[-1]) #last element\r\n",
        "print(new_list[-2]) #last but one\r\n",
        "print(new_list[-3]) #last but two\r\n",
        "print(new_list[-4]) #last but three\r\n"
      ],
      "execution_count": 13,
      "outputs": [
        {
          "output_type": "stream",
          "text": [
            "3\n",
            "7\n",
            "20\n",
            "@\n",
            "make learrning fun!\n",
            "tech is\n",
            "@\n",
            "20\n"
          ],
          "name": "stdout"
        }
      ]
    },
    {
      "cell_type": "markdown",
      "metadata": {
        "id": "jQQe9ZKAgtJ_"
      },
      "source": [
        "# Insert to list\r\n",
        "can add an element at a given positon on the list\r\n",
        "only one element at a time\r\n",
        "two argument\r\n",
        "1st specifies the position\r\n",
        "second species element\r\n",
        "`"
      ]
    },
    {
      "cell_type": "code",
      "metadata": {
        "colab": {
          "base_uri": "https://localhost:8080/"
        },
        "id": "dObW_2p00Lgz",
        "outputId": "495fa895-95f4-4a16-b57d-0167188b9391"
      },
      "source": [
        "# define list\r\n",
        "new_list = [3,7,20, '@', 'tech is', 'makes learning fun']\r\n",
        "#insert element 'chocolate at spot 3 in nw_list\r\n",
        "new_list.insert(3,'chocolate')\r\n",
        "\r\n",
        "#check insertion\r\n",
        "print(new_list)"
      ],
      "execution_count": 14,
      "outputs": [
        {
          "output_type": "stream",
          "text": [
            "[3, 7, 20, 'chocolate', '@', 'tech is', 'makes learning fun']\n"
          ],
          "name": "stdout"
        }
      ]
    },
    {
      "cell_type": "markdown",
      "metadata": {
        "id": "hUu9jgSe1a0k"
      },
      "source": [
        "# remove from list\r\n"
      ]
    },
    {
      "cell_type": "code",
      "metadata": {
        "colab": {
          "base_uri": "https://localhost:8080/"
        },
        "id": "KfUFBxUG1fbi",
        "outputId": "26325e7a-83d5-444a-a1c4-125f1a7be132"
      },
      "source": [
        "# define list\r\n",
        "new_list = [3,7,20,'@', \"tech is\", 'makes learning fun']\r\n",
        "\r\n",
        "# remove 20 from new list\r\n",
        "new_list.remove(20)\r\n",
        "\r\n",
        "print(new_list)"
      ],
      "execution_count": 15,
      "outputs": [
        {
          "output_type": "stream",
          "text": [
            "[3, 7, '@', 'tech is', 'makes learning fun']\n"
          ],
          "name": "stdout"
        }
      ]
    },
    {
      "cell_type": "markdown",
      "metadata": {
        "id": "_3DY3yta2QoC"
      },
      "source": [
        "# Pop from list\r\n",
        "can remove element from any position\r\n",
        "element is not specified in () remove method\r\n"
      ]
    },
    {
      "cell_type": "code",
      "metadata": {
        "colab": {
          "base_uri": "https://localhost:8080/"
        },
        "id": "DMi9UyVm2e7p",
        "outputId": "c1cf3d08-ce54-43b6-cbd8-42d3bf120e58"
      },
      "source": [
        "# define list\r\n",
        "new_list = [3,7,20,'@', 'tech is' , 'make learning fun']\r\n",
        "\r\n",
        "# new pop spot 2 from list\r\n",
        "\r\n",
        "new_list.pop(2)\r\n",
        "\r\n",
        "#check list\r\n",
        "print(new_list)"
      ],
      "execution_count": 16,
      "outputs": [
        {
          "output_type": "stream",
          "text": [
            "[3, 7, '@', 'tech is', 'make learning fun']\n"
          ],
          "name": "stdout"
        }
      ]
    },
    {
      "cell_type": "markdown",
      "metadata": {
        "id": "IcHH5PD83TWF"
      },
      "source": [
        "removes from indexed number"
      ]
    },
    {
      "cell_type": "markdown",
      "metadata": {
        "id": "Dis7njvf3TS_"
      },
      "source": [
        "# list slicing"
      ]
    },
    {
      "cell_type": "code",
      "metadata": {
        "id": "u086P0XxLzGx"
      },
      "source": [
        "used to extract a sub-section of the list"
      ],
      "execution_count": null,
      "outputs": []
    },
    {
      "cell_type": "code",
      "metadata": {
        "colab": {
          "base_uri": "https://localhost:8080/",
          "height": 248
        },
        "id": "4uiYD5vlL4_l",
        "outputId": "bdc5f89a-6b03-4814-bd0e-4ad755dbe573"
      },
      "source": [
        "#define a list\r\n",
        "\r\n",
        "new_list = [3,7,20 , '@', 'tech is' , 'makes learning fun']\r\n",
        "\r\n",
        "# extract a combination of new_list extracts\r\n",
        "print(new_list[:4])\r\n",
        "print(new_list[2:])\r\n",
        "print(new_list[1.5])\r\n",
        "print(new_list[:])"
      ],
      "execution_count": 21,
      "outputs": [
        {
          "output_type": "stream",
          "text": [
            "[3, 7, 20, '@']\n",
            "[20, '@', 'tech is', 'makes learning fun']\n"
          ],
          "name": "stdout"
        },
        {
          "output_type": "error",
          "ename": "TypeError",
          "evalue": "ignored",
          "traceback": [
            "\u001b[0;31m---------------------------------------------------------------------------\u001b[0m",
            "\u001b[0;31mTypeError\u001b[0m                                 Traceback (most recent call last)",
            "\u001b[0;32m<ipython-input-21-30048d368b73>\u001b[0m in \u001b[0;36m<module>\u001b[0;34m()\u001b[0m\n\u001b[1;32m      6\u001b[0m \u001b[0mprint\u001b[0m\u001b[0;34m(\u001b[0m\u001b[0mnew_list\u001b[0m\u001b[0;34m[\u001b[0m\u001b[0;34m:\u001b[0m\u001b[0;36m4\u001b[0m\u001b[0;34m]\u001b[0m\u001b[0;34m)\u001b[0m\u001b[0;34m\u001b[0m\u001b[0;34m\u001b[0m\u001b[0m\n\u001b[1;32m      7\u001b[0m \u001b[0mprint\u001b[0m\u001b[0;34m(\u001b[0m\u001b[0mnew_list\u001b[0m\u001b[0;34m[\u001b[0m\u001b[0;36m2\u001b[0m\u001b[0;34m:\u001b[0m\u001b[0;34m]\u001b[0m\u001b[0;34m)\u001b[0m\u001b[0;34m\u001b[0m\u001b[0;34m\u001b[0m\u001b[0m\n\u001b[0;32m----> 8\u001b[0;31m \u001b[0mprint\u001b[0m\u001b[0;34m(\u001b[0m\u001b[0mnew_list\u001b[0m\u001b[0;34m[\u001b[0m\u001b[0;36m1.5\u001b[0m\u001b[0;34m]\u001b[0m\u001b[0;34m)\u001b[0m\u001b[0;34m\u001b[0m\u001b[0;34m\u001b[0m\u001b[0m\n\u001b[0m\u001b[1;32m      9\u001b[0m \u001b[0mprint\u001b[0m\u001b[0;34m(\u001b[0m\u001b[0mnew_list\u001b[0m\u001b[0;34m[\u001b[0m\u001b[0;34m:\u001b[0m\u001b[0;34m]\u001b[0m\u001b[0;34m)\u001b[0m\u001b[0;34m\u001b[0m\u001b[0;34m\u001b[0m\u001b[0m\n",
            "\u001b[0;31mTypeError\u001b[0m: list indices must be integers or slices, not float"
          ]
        }
      ]
    },
    {
      "cell_type": "markdown",
      "metadata": {
        "id": "w9zTJgeUN0St"
      },
      "source": [
        "# reverse List"
      ]
    },
    {
      "cell_type": "markdown",
      "metadata": {
        "id": "5Y9VMMN8N0Za"
      },
      "source": [
        "when creating list cannot use float variable must use integers or slices"
      ]
    },
    {
      "cell_type": "code",
      "metadata": {
        "colab": {
          "base_uri": "https://localhost:8080/"
        },
        "id": "w9yVyRkqN-nY",
        "outputId": "b7f35d33-f976-4cb3-f13c-f9504c9f39b8"
      },
      "source": [
        "# define list\r\n",
        "new_list = [3,7,20,'@','TECH I.S.', 'makes learning fun!']\r\n",
        "\r\n",
        "# without modifying the original list\r\n",
        "print(new_list[::-1])\r\n",
        "print(new_list) # unmodified original list\r\n",
        "\r\n",
        "# modify the original list\r\n",
        "new_list.reverse() # modify original list\r\n",
        "print(new_list)\r\n"
      ],
      "execution_count": 2,
      "outputs": [
        {
          "output_type": "stream",
          "text": [
            "['makes learning fun!', 'TECH I.S.', '@', 20, 7, 3]\n",
            "[3, 7, 20, '@', 'TECH I.S.', 'makes learning fun!']\n",
            "['makes learning fun!', 'TECH I.S.', '@', 20, 7, 3]\n"
          ],
          "name": "stdout"
        }
      ]
    },
    {
      "cell_type": "markdown",
      "metadata": {
        "id": "YMZLEo8qLGPN"
      },
      "source": [
        "# length of list\r\n"
      ]
    },
    {
      "cell_type": "code",
      "metadata": {
        "colab": {
          "base_uri": "https://localhost:8080/"
        },
        "id": "TqJXzNf3LJsJ",
        "outputId": "82bf221a-7358-48a2-88cf-494eb95844bc"
      },
      "source": [
        "# define list\r\n",
        "new_list = [3,7,20,'@','TECH I.S.', 'makes learning fun!']\r\n",
        "\r\n",
        "# print length of new_list\r\n",
        "len(new_list)"
      ],
      "execution_count": 4,
      "outputs": [
        {
          "output_type": "stream",
          "text": [
            "7\n",
            "99\n",
            "%$\n",
            "x\n"
          ],
          "name": "stdout"
        }
      ]
    },
    {
      "cell_type": "markdown",
      "metadata": {
        "id": "Bq_1ul7PLTo2"
      },
      "source": [
        "min and max"
      ]
    },
    {
      "cell_type": "markdown",
      "metadata": {
        "id": "n-RRA3zELTgz"
      },
      "source": [
        ""
      ]
    },
    {
      "cell_type": "code",
      "metadata": {
        "id": "-ByrygbXN_VX"
      },
      "source": [
        "# define list\r\n",
        "new_list = [8,12,7,10,52,33,21,99]\r\n",
        "\r\n",
        "# check min and max of new_list\r\n",
        "print(min(new_list))\r\n",
        "print(max(new_list))\r\n",
        "\r\n",
        "# define list\r\n",
        "new_list = ['x','10','99','twenty','%$','--']\r\n",
        "\r\n",
        "# check min and max of new_list\r\n",
        "print(min(new_list))\r\n",
        "print(max(new_list)"
      ],
      "execution_count": null,
      "outputs": []
    },
    {
      "cell_type": "markdown",
      "metadata": {
        "id": "ChSx5iIGLvCG"
      },
      "source": [
        "## count elements"
      ]
    },
    {
      "cell_type": "code",
      "metadata": {
        "colab": {
          "base_uri": "https://localhost:8080/"
        },
        "id": "g8zT4leUL0Sj",
        "outputId": "2be168fb-6d85-4409-c803-aa4031bae3c6"
      },
      "source": [
        "\r\n",
        "# define list\r\n",
        "new_list = [8,12,7,10,7,33,21,7]\r\n",
        "\r\n",
        "# count the number of occurences of 7\r\n",
        "print(new_list.count(7))\r\n",
        "\r\n",
        "# count the number of occurences of 10\r\n",
        "print(new_list.count(10))"
      ],
      "execution_count": 7,
      "outputs": [
        {
          "output_type": "stream",
          "text": [
            "3\n",
            "1\n"
          ],
          "name": "stdout"
        }
      ]
    },
    {
      "cell_type": "markdown",
      "metadata": {
        "id": "UV8LIQeyMDHw"
      },
      "source": [
        "concatenate list"
      ]
    },
    {
      "cell_type": "code",
      "metadata": {
        "colab": {
          "base_uri": "https://localhost:8080/"
        },
        "id": "gpkUi8JeMG1b",
        "outputId": "b7b7815c-5ae8-427a-ecfd-a8bfdd769362"
      },
      "source": [
        "# define two lists\r\n",
        "list_first = ['three','hundred']\r\n",
        "print(list_first)\r\n",
        "\r\n",
        "list_second = ['words','in','a','paragraph']\r\n",
        "print(list_second)\r\n",
        "\r\n",
        "# concatenate lists\r\n",
        "list_combined = list_first + list_second\r\n",
        "print(list_combined)"
      ],
      "execution_count": 8,
      "outputs": [
        {
          "output_type": "stream",
          "text": [
            "['three', 'hundred']\n",
            "['words', 'in', 'a', 'paragraph']\n",
            "['three', 'hundred', 'words', 'in', 'a', 'paragraph']\n"
          ],
          "name": "stdout"
        }
      ]
    },
    {
      "cell_type": "markdown",
      "metadata": {
        "id": "WojFKfE1NWjF"
      },
      "source": [
        "multiply list content\r\n",
        "\r\n",
        "---\r\n",
        "\r\n"
      ]
    },
    {
      "cell_type": "code",
      "metadata": {
        "id": "018Jz3shMB4V"
      },
      "source": [
        "# define list\r\n",
        "new_list = [3,7,20,'@','TECH I.S.', 'makes learning fun!']\r\n",
        "\r\n",
        "# multiply list\r\n",
        "print(new_list*2)\r\n",
        "print(new_list*3)"
      ],
      "execution_count": null,
      "outputs": []
    },
    {
      "cell_type": "markdown",
      "metadata": {
        "id": "IKdTk6uVNfz3"
      },
      "source": [
        "location of first occurence"
      ]
    },
    {
      "cell_type": "code",
      "metadata": {
        "colab": {
          "base_uri": "https://localhost:8080/"
        },
        "id": "EeBJAl9tNj0p",
        "outputId": "e1d94392-5799-40f1-c82f-cf4b070d0355"
      },
      "source": [
        "# define list\r\n",
        "new_list = [3,7,20,'@','TECH I.S.', 'makes learning fun!']\r\n",
        "\r\n",
        "# search index of 'TECH I.S.'\r\n",
        "print(new_list.index('TECH I.S.'))\r\n",
        "\r\n",
        "# search '@' with optional arguments\r\n",
        "print(new_list.index('@',1,4))"
      ],
      "execution_count": 9,
      "outputs": [
        {
          "output_type": "stream",
          "text": [
            "4\n",
            "3\n"
          ],
          "name": "stdout"
        }
      ]
    },
    {
      "cell_type": "markdown",
      "metadata": {
        "id": "h3FNrwd5O3o7"
      },
      "source": [
        "#** identity operators"
      ]
    },
    {
      "cell_type": "code",
      "metadata": {
        "colab": {
          "base_uri": "https://localhost:8080/"
        },
        "id": "1izm6TkGO-hp",
        "outputId": "2d3d51cf-ee4e-45bb-fc68-3e3e805225cc"
      },
      "source": [
        "# define lists\r\n",
        "x = [\"apple\", \"banana\"]\r\n",
        "y = [\"apple\", \"banana\"]\r\n",
        "z = x\r\n",
        "\r\n",
        "# 'is' test \r\n",
        "print(x is z)\r\n",
        "\r\n",
        "# 'is' test \r\n",
        "print(x is y)\r\n",
        "\r\n",
        "# equality test\r\n",
        "print(x == y)\r\n",
        "\r\n",
        "# 'is not' test\r\n",
        "print(x is not y)"
      ],
      "execution_count": 10,
      "outputs": [
        {
          "output_type": "stream",
          "text": [
            "True\n",
            "False\n",
            "True\n",
            "True\n"
          ],
          "name": "stdout"
        }
      ]
    },
    {
      "cell_type": "code",
      "metadata": {
        "id": "AOLUj3FtSj2y"
      },
      "source": [
        ""
      ],
      "execution_count": null,
      "outputs": []
    },
    {
      "cell_type": "code",
      "metadata": {
        "colab": {
          "base_uri": "https://localhost:8080/"
        },
        "id": "E3Bezc-DSjsY",
        "outputId": "3fb69cbf-d822-4089-9076-fe94858343c1"
      },
      "source": [
        "# define list \r\n",
        "x = [\"apple\", \"banana\"]\r\n",
        "\r\n",
        "# 'in' test\r\n",
        "print(\"banana\" in x)\r\n",
        "\r\n",
        "# 'in' test\r\n",
        "print(\"pineapple\" in x)\r\n",
        "\r\n",
        "# 'not in' test\r\n",
        "print(\"pineapple\" not in x)"
      ],
      "execution_count": 11,
      "outputs": [
        {
          "output_type": "stream",
          "text": [
            "True\n",
            "False\n",
            "True\n"
          ],
          "name": "stdout"
        }
      ]
    }
  ]
}